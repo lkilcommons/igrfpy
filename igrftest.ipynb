{
 "cells": [
  {
   "cell_type": "code",
   "execution_count": 3,
   "metadata": {
    "collapsed": false
   },
   "outputs": [
    {
     "name": "stdout",
     "output_type": "stream",
     "text": [
      "The autoreload extension is already loaded. To reload it, use:\n",
      "  %reload_ext autoreload\n"
     ]
    }
   ],
   "source": [
    "#Test igrfpy by plotting some igrf main field\n",
    "import igrfpy\n",
    "import datetime\n",
    "import numpy as np\n",
    "import matplotlib.pyplot as pp\n",
    "%load_ext autoreload"
   ]
  },
  {
   "cell_type": "code",
   "execution_count": 8,
   "metadata": {
    "collapsed": false
   },
   "outputs": [
    {
     "name": "stdout",
     "output_type": "stream",
     "text": [
      "Running IGRF for 24 values\n"
     ]
    }
   ],
   "source": [
    "%autoreload\n",
    "times = [datetime.datetime(2000,6,17,12,i,0) for i in range(24)]\n",
    "lats = [-90.+i*5 for i in range(24)]\n",
    "lons = [0+i*5 for i in range(24)]\n",
    "alts = [850. for i in range(24)]\n",
    "be,bn,bu = igrfpy.getmainfield(times,lats,lons,alts)"
   ]
  },
  {
   "cell_type": "code",
   "execution_count": 14,
   "metadata": {
    "collapsed": false
   },
   "outputs": [],
   "source": [
    "f = pp.figure()\n",
    "a = f.add_subplot(2,1,1)\n",
    "a2 = f.add_subplot(2,1,2)\n",
    "a.plot(times,be,'b.',label='B_east')\n",
    "a.plot(times,bn,'r.',label='B_north')\n",
    "a.plot(times,bu,'g.',label='B_up')\n",
    "a.legend()\n",
    "a2.plot(times,lats,'b.',label=\"Geocentric Latitude\")\n",
    "a2.plot(times,lons,'k.',label=\"Longitude\")\n",
    "a2.legend()\n",
    "f.autofmt_xdate()\n",
    "pp.show()"
   ]
  }
 ],
 "metadata": {
  "kernelspec": {
   "display_name": "Python 2",
   "language": "python",
   "name": "python2"
  },
  "language_info": {
   "codemirror_mode": {
    "name": "ipython",
    "version": 2
   },
   "file_extension": ".py",
   "mimetype": "text/x-python",
   "name": "python",
   "nbconvert_exporter": "python",
   "pygments_lexer": "ipython2",
   "version": "2.7.9"
  }
 },
 "nbformat": 4,
 "nbformat_minor": 0
}
