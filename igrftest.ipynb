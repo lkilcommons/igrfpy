{
 "cells": [
  {
   "cell_type": "code",
   "execution_count": 2,
   "metadata": {
    "collapsed": false
   },
   "outputs": [],
   "source": [
    "#Test igrfpy by plotting some igrf main field\n",
    "import igrfpy\n",
    "import datetime\n",
    "import numpy as np\n",
    "import matplotlib.pyplot as pp\n",
    "%load_ext autoreload"
   ]
  },
  {
   "cell_type": "code",
   "execution_count": 17,
   "metadata": {
    "collapsed": false
   },
   "outputs": [
    {
     "name": "stdout",
     "output_type": "stream",
     "text": [
      "Running IGRF for 50 values\n"
     ]
    }
   ],
   "source": [
    "%autoreload\n",
    "nvals = 50\n",
    "times = datetime.datetime(2000,6,17,12,0,0)\n",
    "lats = [-90.+i*(180./(nvals-1)) for i in range(nvals)]\n",
    "lons = 0.\n",
    "alts = 1.\n",
    "be,bn,bu = igrfpy.getmainfield(times,lats,lons,alts)"
   ]
  },
  {
   "cell_type": "code",
   "execution_count": 18,
   "metadata": {
    "collapsed": false
   },
   "outputs": [],
   "source": [
    "f = pp.figure()\n",
    "a = f.add_subplot(1,1,1)\n",
    "a.plot(lats,be,'b-',label='B_east')\n",
    "a.plot(lats,bn,'r-',label='B_north')\n",
    "a.plot(lats,bu,'g-',label='B_up')\n",
    "a.legend()\n",
    "pp.show()"
   ]
  }
 ],
 "metadata": {
  "kernelspec": {
   "display_name": "Python 2",
   "language": "python",
   "name": "python2"
  },
  "language_info": {
   "codemirror_mode": {
    "name": "ipython",
    "version": 2
   },
   "file_extension": ".py",
   "mimetype": "text/x-python",
   "name": "python",
   "nbconvert_exporter": "python",
   "pygments_lexer": "ipython2",
   "version": "2.7.9"
  }
 },
 "nbformat": 4,
 "nbformat_minor": 0
}
